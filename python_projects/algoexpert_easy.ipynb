{
  "nbformat": 4,
  "nbformat_minor": 0,
  "metadata": {
    "colab": {
      "name": "algoexpert_easy.ipynb",
      "provenance": [],
      "collapsed_sections": [
        "GIn3q_fd2TCa",
        "ykVrxqdAyA7f",
        "yNPa2f918NWf",
        "QFzgSR4I_X13",
        "gcsm1wxzbnr9"
      ],
      "authorship_tag": "ABX9TyMxtVSVrvCYpwbpDOAhsQZC",
      "include_colab_link": true
    },
    "kernelspec": {
      "name": "python3",
      "display_name": "Python 3"
    },
    "language_info": {
      "name": "python"
    }
  },
  "cells": [
    {
      "cell_type": "markdown",
      "metadata": {
        "id": "view-in-github",
        "colab_type": "text"
      },
      "source": [
        "<a href=\"https://colab.research.google.com/github/cherylktt/pythonprojs/blob/main/algoexpert_easy.ipynb\" target=\"_parent\"><img src=\"https://colab.research.google.com/assets/colab-badge.svg\" alt=\"Open In Colab\"/></a>"
      ]
    },
    {
      "cell_type": "markdown",
      "source": [
        "## Arrays"
      ],
      "metadata": {
        "id": "KtvoO5-jdxZq"
      }
    },
    {
      "cell_type": "markdown",
      "source": [
        "### Two Number Sum"
      ],
      "metadata": {
        "id": "GIn3q_fd2TCa"
      }
    },
    {
      "cell_type": "code",
      "source": [
        "def twoNumberSum(array, targetSum):\n",
        "  for x in array:\n",
        "    for y in array:\n",
        "      if x != y:\n",
        "        if x + y == targetSum:\n",
        "          return [x, y]\n",
        "  return []"
      ],
      "metadata": {
        "id": "mAOqyqZ1okcf"
      },
      "execution_count": null,
      "outputs": []
    },
    {
      "cell_type": "code",
      "source": [
        "array = [3, 5, -4, 8, 11, 1, -1, 6]\n",
        "targetSum = 10\n",
        "\n",
        "twoNumberSum(array, targetSum)"
      ],
      "metadata": {
        "colab": {
          "base_uri": "https://localhost:8080/"
        },
        "id": "8PyW3gKnnGhC",
        "outputId": "23b63f90-6607-4a81-e9fa-b0f08b7b42f0"
      },
      "execution_count": null,
      "outputs": [
        {
          "output_type": "execute_result",
          "data": {
            "text/plain": [
              "[11, -1]"
            ]
          },
          "metadata": {},
          "execution_count": 86
        }
      ]
    },
    {
      "cell_type": "markdown",
      "source": [
        "### Validate Subsequence"
      ],
      "metadata": {
        "id": "ykVrxqdAyA7f"
      }
    },
    {
      "cell_type": "code",
      "source": [
        "def isValidSubsequence(array, sequence):\n",
        "\ti = 0\n",
        "\tnew_array = []\n",
        "\tfor x in array:\n",
        "\t\tif x == sequence[i]:\n",
        "\t\t\tnew_array.append(x)\n",
        "\t\t\ti+=1\n",
        "\t\t\tif len(new_array) == len(sequence):\n",
        "\t\t\t\tbreak\n",
        "\tif new_array == sequence:\n",
        "\t\treturn True\n",
        "\telse:\n",
        "\t\treturn False"
      ],
      "metadata": {
        "id": "4TTx_teh5rls"
      },
      "execution_count": null,
      "outputs": []
    },
    {
      "cell_type": "code",
      "source": [
        "array = [5, 1, 22, 25, 6, -1, 8, 10]\n",
        "sequence = [1, 6, -1, 10]\n",
        "\n",
        "isValidSubsequence(array, sequence)"
      ],
      "metadata": {
        "colab": {
          "base_uri": "https://localhost:8080/"
        },
        "id": "5bUnFujG5xT_",
        "outputId": "1dc80d13-3b1b-4afe-f083-22470f91710a"
      },
      "execution_count": null,
      "outputs": [
        {
          "output_type": "execute_result",
          "data": {
            "text/plain": [
              "True"
            ]
          },
          "metadata": {},
          "execution_count": 134
        }
      ]
    },
    {
      "cell_type": "markdown",
      "source": [
        "### Sorted Squared Array"
      ],
      "metadata": {
        "id": "yNPa2f918NWf"
      }
    },
    {
      "cell_type": "code",
      "source": [
        "def sortedSquaredArray(array):\n",
        "  new_array = []\n",
        "  for x in array:\n",
        "    new_array.append(x**2)\n",
        "    new_array.sort()\n",
        "  return new_array"
      ],
      "metadata": {
        "id": "rtkNAbSp-RwE"
      },
      "execution_count": null,
      "outputs": []
    },
    {
      "cell_type": "code",
      "source": [
        "array = [1, 2, 3, 5, 6, 8, 9]\n",
        "sortedSquaredArray(array)"
      ],
      "metadata": {
        "colab": {
          "base_uri": "https://localhost:8080/"
        },
        "id": "9Hs-8cIv-Vez",
        "outputId": "689af33b-31c3-4661-9719-de78c454e963"
      },
      "execution_count": null,
      "outputs": [
        {
          "output_type": "execute_result",
          "data": {
            "text/plain": [
              "[1, 4, 9, 25, 36, 64, 81]"
            ]
          },
          "metadata": {},
          "execution_count": 143
        }
      ]
    },
    {
      "cell_type": "markdown",
      "source": [
        "### Tournament Winner"
      ],
      "metadata": {
        "id": "QFzgSR4I_X13"
      }
    },
    {
      "cell_type": "code",
      "source": [
        "def tournamentWinner(competitions, results):\n",
        "\tscores = {}\n",
        "\t\n",
        "\tfor i, (home, away) in enumerate(competitions):\n",
        "\t\tdef updateScores(team, points, scores):\n",
        "\t\t\tif team not in scores:\n",
        "\t\t\t\tscores[team] = 0\n",
        "\t\t\tscores[team] += points\n",
        "\t\t\n",
        "\t\tif results[i] == 0:\n",
        "\t\t\tlosingTeam = updateScores(home, 0, scores)\n",
        "\t\t\twinningTeam = updateScores(away, 3, scores)\n",
        "\t\t\n",
        "\t\telif results[i] == 1:\n",
        "\t\t\twinningTeam = updateScores(home, 3, scores)\n",
        "\t\t\tlosingTeam = updateScores(away, 0, scores)\n",
        "\t\n",
        "\treturn max(scores, key=scores.get)"
      ],
      "metadata": {
        "id": "utoB2rGMWACe"
      },
      "execution_count": null,
      "outputs": []
    },
    {
      "cell_type": "code",
      "source": [
        "competitions = [[\"HTML\", \"Java\"], [\"Java\", \"Python\"], [\"Python\", \"HTML\"]]\n",
        "results = [0, 1, 1]\n",
        "\n",
        "tournamentWinner(competitions, results) "
      ],
      "metadata": {
        "colab": {
          "base_uri": "https://localhost:8080/",
          "height": 35
        },
        "id": "yHDOS-KJZbJO",
        "outputId": "24be72e7-9ac6-4db7-cd82-f7395af3783d"
      },
      "execution_count": null,
      "outputs": [
        {
          "output_type": "execute_result",
          "data": {
            "text/plain": [
              "'Java'"
            ],
            "application/vnd.google.colaboratory.intrinsic+json": {
              "type": "string"
            }
          },
          "metadata": {},
          "execution_count": 7
        }
      ]
    },
    {
      "cell_type": "markdown",
      "source": [
        "### Non-Constructible Change"
      ],
      "metadata": {
        "id": "gcsm1wxzbnr9"
      }
    },
    {
      "cell_type": "code",
      "source": [
        "def nonConstructibleChange(coins):\n",
        "\tcoins.sort()\n",
        "\tcurrentChange = 0\n",
        "\t\n",
        "\tfor coin in coins:\n",
        "\t\tif coin > currentChange + 1:\n",
        "\t\t\treturn currentChange + 1\n",
        "\t\t\n",
        "\t\tcurrentChange += coin\n",
        "\n",
        "\treturn currentChange + 1"
      ],
      "metadata": {
        "id": "mOIhMeyGGaQE"
      },
      "execution_count": null,
      "outputs": []
    },
    {
      "cell_type": "code",
      "source": [
        "coins = [5, 7, 1, 1, 2, 3, 22]\n",
        "\n",
        "nonConstructibleChange(coins)"
      ],
      "metadata": {
        "colab": {
          "base_uri": "https://localhost:8080/"
        },
        "id": "8_khq6rd8krd",
        "outputId": "874d49a1-ced2-42d4-ea3f-e0e0bf2545d8"
      },
      "execution_count": null,
      "outputs": [
        {
          "output_type": "execute_result",
          "data": {
            "text/plain": [
              "20"
            ]
          },
          "metadata": {},
          "execution_count": 9
        }
      ]
    },
    {
      "cell_type": "markdown",
      "source": [
        "## Greedy Algorithms"
      ],
      "metadata": {
        "id": "lv1vpN2Wd9IH"
      }
    },
    {
      "cell_type": "markdown",
      "source": [
        "### Minimum Waiting Time"
      ],
      "metadata": {
        "id": "Kv-NEIY5_-vn"
      }
    },
    {
      "cell_type": "code",
      "source": [
        "def minimumWaitingTime(queries):\n",
        "  queries.sort()\n",
        "  waitingTime = 0\n",
        "  previousWaitingTime = 0\n",
        "\n",
        "  for i, duration in enumerate(queries):\n",
        "    if i <= len(queries) - 2:\n",
        "      waitingTime += previousWaitingTime + duration\n",
        "      previousWaitingTime += duration\n",
        "  return waitingTime"
      ],
      "metadata": {
        "id": "am50koXWDuew"
      },
      "execution_count": null,
      "outputs": []
    },
    {
      "cell_type": "code",
      "source": [
        "queries = [3, 2, 1, 2, 6]\n",
        "\n",
        "minimumWaitingTime(queries)"
      ],
      "metadata": {
        "id": "p7IrKsgjDGOH",
        "colab": {
          "base_uri": "https://localhost:8080/"
        },
        "outputId": "3b3c5b28-e932-4ce0-a815-ee12e2d3af30"
      },
      "execution_count": null,
      "outputs": [
        {
          "output_type": "execute_result",
          "data": {
            "text/plain": [
              "17"
            ]
          },
          "metadata": {},
          "execution_count": 23
        }
      ]
    },
    {
      "cell_type": "markdown",
      "source": [
        "### Class Photos"
      ],
      "metadata": {
        "id": "pLXYOBFCmlmL"
      }
    },
    {
      "cell_type": "code",
      "source": [
        "def classPhotos(redShirtHeights, blueShirtHeights):\n",
        "\tbooleanList = []\n",
        "\tredShirtHeights.sort()\n",
        "\tblueShirtHeights.sort()\n",
        "\tif redShirtHeights[0] < blueShirtHeights[0]:\n",
        "\t\tfrontRow = redShirtHeights\n",
        "\t\tbackRow = blueShirtHeights\n",
        "\telif blueShirtHeights[0] < redShirtHeights[0]:\n",
        "\t\tfrontRow = blueShirtHeights\n",
        "\t\tbackRow = redShirtHeights\n",
        "\telse:\n",
        "\t\treturn False\n",
        "\t\n",
        "\tfor i, x in enumerate(redShirtHeights):\n",
        "\t\tif i <= len(redShirtHeights):\n",
        "\t\t\tif frontRow[i] < backRow[i]:\n",
        "\t\t\t\tbooleanList.append(True)\n",
        "\t\t\telse:\n",
        "\t\t\t\tbooleanList.append(False)\n",
        "\treturn all(booleanList)"
      ],
      "metadata": {
        "id": "n8T1PG9Bnw7E"
      },
      "execution_count": null,
      "outputs": []
    },
    {
      "cell_type": "code",
      "source": [
        "redShirtHeights = [5, 8, 1, 3, 4]\n",
        "blueShirtHeights = [6, 9, 2, 4, 5]\n",
        "\n",
        "classPhotos(redShirtHeights, blueShirtHeights)"
      ],
      "metadata": {
        "colab": {
          "base_uri": "https://localhost:8080/"
        },
        "id": "_Eisecf2no_B",
        "outputId": "24f7563f-9310-48ff-acdb-9c39c46e30b8"
      },
      "execution_count": null,
      "outputs": [
        {
          "output_type": "execute_result",
          "data": {
            "text/plain": [
              "True"
            ]
          },
          "metadata": {},
          "execution_count": 35
        }
      ]
    },
    {
      "cell_type": "markdown",
      "source": [
        "### Tandem Bicycle"
      ],
      "metadata": {
        "id": "p25RviD2nzkK"
      }
    },
    {
      "cell_type": "code",
      "source": [
        "def tandemBicycle(redShirtSpeeds, blueShirtSpeeds, fastest):\n",
        "\ttandemSpeed = 0\n",
        "\ttotalSpeed = 0\n",
        "\tif fastest == True:\n",
        "\t\tredShirtSpeeds.sort()\n",
        "\t\tblueShirtSpeeds.sort(reverse=True)\n",
        "\t\tfor i in range(len(redShirtSpeeds)):\n",
        "\t\t\ttandemSpeed = max(redShirtSpeeds[i], blueShirtSpeeds[i])\n",
        "\t\t\ttotalSpeed += tandemSpeed\n",
        "\t\treturn totalSpeed\n",
        "\t\n",
        "\telif fastest == False:\n",
        "\t\tredShirtSpeeds.sort()\n",
        "\t\tblueShirtSpeeds.sort()\n",
        "\t\tfor i in range(len(redShirtSpeeds)):\n",
        "\t\t\ttandemSpeed = max(redShirtSpeeds[i], blueShirtSpeeds[i])\n",
        "\t\t\ttotalSpeed += tandemSpeed\n",
        "\t\treturn totalSpeed"
      ],
      "metadata": {
        "id": "cwuoYGEFsWPa"
      },
      "execution_count": null,
      "outputs": []
    },
    {
      "cell_type": "code",
      "source": [
        "redShirtSpeeds = [5, 5, 3, 9, 2]\n",
        "blueShirtSpeeds = [3, 6, 7, 2, 1]\n",
        "fastest = True\n",
        "\n",
        "tandemBicycle(redShirtSpeeds, blueShirtSpeeds, fastest)"
      ],
      "metadata": {
        "colab": {
          "base_uri": "https://localhost:8080/"
        },
        "id": "wjen6upFsKBe",
        "outputId": "1f4e3200-7405-4ec7-d246-bc2e3e28ecd6"
      },
      "execution_count": null,
      "outputs": [
        {
          "output_type": "execute_result",
          "data": {
            "text/plain": [
              "32"
            ]
          },
          "metadata": {},
          "execution_count": 44
        }
      ]
    },
    {
      "cell_type": "markdown",
      "source": [
        "## Recursion"
      ],
      "metadata": {
        "id": "K23m6D1beFmo"
      }
    },
    {
      "cell_type": "markdown",
      "source": [
        "### Nth Fibonacci"
      ],
      "metadata": {
        "id": "7RrGSFWIM98-"
      }
    },
    {
      "cell_type": "code",
      "source": [
        "def getNthFib(n):\n",
        "\tfibSeq = [0, 1]\n",
        "\tfirstNum = 0\n",
        "\tsecondNum = 1\n",
        "\t\n",
        "\twhile n >= len(fibSeq):\n",
        "\t\tnextNum = firstNum + secondNum\n",
        "\t\tfibSeq.append(nextNum)\n",
        "\t\tfirstNum = secondNum\n",
        "\t\tsecondNum = nextNum\n",
        "\n",
        "\treturn fibSeq[n-1]"
      ],
      "metadata": {
        "id": "SjhcJVzLTalP"
      },
      "execution_count": null,
      "outputs": []
    },
    {
      "cell_type": "code",
      "source": [
        "n = 6\n",
        "\n",
        "getNthFib(n)"
      ],
      "metadata": {
        "colab": {
          "base_uri": "https://localhost:8080/"
        },
        "id": "V6rLs3iFTbwW",
        "outputId": "80754451-f235-43e2-c6f2-b1a4ccaeb4ea"
      },
      "execution_count": null,
      "outputs": [
        {
          "output_type": "execute_result",
          "data": {
            "text/plain": [
              "5"
            ]
          },
          "metadata": {},
          "execution_count": 4
        }
      ]
    },
    {
      "cell_type": "markdown",
      "source": [
        "### Product Sum"
      ],
      "metadata": {
        "id": "5J3ej9hNTftk"
      }
    },
    {
      "cell_type": "code",
      "source": [
        "def productSum(array, multiplier=1):\n",
        "  sum = 0\n",
        "  for x in array:\n",
        "    if type(x) == list:\n",
        "      sum += productSum(x, multiplier+1)\n",
        "    else:\n",
        "      sum += x\n",
        "  return sum * multiplier"
      ],
      "metadata": {
        "id": "w_gFw0TDUE4z"
      },
      "execution_count": null,
      "outputs": []
    },
    {
      "cell_type": "code",
      "source": [
        "array = [5, 2, [7, -1], 3, [6, [-13, 8], 4]]\n",
        "\n",
        "productSum(array)"
      ],
      "metadata": {
        "colab": {
          "base_uri": "https://localhost:8080/"
        },
        "id": "TfjRdDcGT3oh",
        "outputId": "b7633ab8-111f-4ea8-c63b-156a98e25036"
      },
      "execution_count": null,
      "outputs": [
        {
          "output_type": "execute_result",
          "data": {
            "text/plain": [
              "12"
            ]
          },
          "metadata": {},
          "execution_count": 40
        }
      ]
    },
    {
      "cell_type": "markdown",
      "source": [
        "## Searching"
      ],
      "metadata": {
        "id": "QHPO0fOUeMXZ"
      }
    },
    {
      "cell_type": "markdown",
      "source": [
        "### Binary Search"
      ],
      "metadata": {
        "id": "8fsIPC_DUAbp"
      }
    },
    {
      "cell_type": "code",
      "source": [
        "def binarySearch(array, target):\n",
        " return binarySerachHelper(array, target, 0, len(array) - 1)\n",
        "\n",
        "def binarySearchHelper(array, target, left, right):\n",
        "  middle = int((left + right) / 2)\n",
        "  potentialMatch = array[middle]\n",
        "  \n",
        "  if target == potentialMatch:\n",
        "    print(middle)\n",
        "    \n",
        "  elif target < potentialMatch:\n",
        "    return binarySearchHelper(array, target, left, middle+1)\n",
        "    \n",
        "  elif target > potentialMatch:\n",
        "    return binarySearchHelper(array, target, middle-1, right)\n",
        "  \n",
        "  else:\n",
        "    return -1"
      ],
      "metadata": {
        "id": "X5HDue7hae9F"
      },
      "execution_count": null,
      "outputs": []
    },
    {
      "cell_type": "code",
      "source": [
        "array = [0, 1, 21, 33, 45, 61, 71, 72, 73]\n",
        "target = 33\n",
        "\n",
        "binarySearch(array, target)"
      ],
      "metadata": {
        "colab": {
          "base_uri": "https://localhost:8080/"
        },
        "id": "484llb6YbgHE",
        "outputId": "487efb50-9cbd-4c47-b1a0-700d3a349699"
      },
      "execution_count": null,
      "outputs": [
        {
          "output_type": "stream",
          "name": "stdout",
          "text": [
            "3\n"
          ]
        }
      ]
    },
    {
      "cell_type": "markdown",
      "source": [
        "### Find Three Largest Numbers"
      ],
      "metadata": {
        "id": "GR4qPuIZbscq"
      }
    },
    {
      "cell_type": "code",
      "source": [
        "def findThreeLargestNumbers(array):\n",
        "  threeLargest = []\n",
        "  if len(array) == 3:\n",
        "    threeLargest = array\n",
        "    threeLargest.sort()\n",
        "  \n",
        "  else:\n",
        "    threeLargest = [array[0], array[1], array[2]]\n",
        "    threeLargest.sort()\n",
        "    array = array[3:]\n",
        "\n",
        "    for x in array:\n",
        "      if x >= threeLargest[0]:\n",
        "        threeLargest[0] = x\n",
        "        threeLargest.sort()\n",
        "  \n",
        "  return threeLargest"
      ],
      "metadata": {
        "id": "ZAPM_NpN4GH1"
      },
      "execution_count": null,
      "outputs": []
    },
    {
      "cell_type": "code",
      "source": [
        "array = [141, 1, 17, -7, -17, -27, 18, 541, 8, 7, 7]\n",
        "\n",
        "findThreeLargestNumbers(array)"
      ],
      "metadata": {
        "colab": {
          "base_uri": "https://localhost:8080/"
        },
        "id": "W_RPftjgcVgv",
        "outputId": "85ee00d9-8c4a-4f49-98db-2813ae04d90c"
      },
      "execution_count": null,
      "outputs": [
        {
          "output_type": "execute_result",
          "data": {
            "text/plain": [
              "[18, 141, 541]"
            ]
          },
          "metadata": {},
          "execution_count": 58
        }
      ]
    },
    {
      "cell_type": "markdown",
      "source": [
        "## Sorting"
      ],
      "metadata": {
        "id": "0BN8GBdgeVBR"
      }
    },
    {
      "cell_type": "markdown",
      "source": [
        "### Bubble Sort"
      ],
      "metadata": {
        "id": "S-u9np7-9zqZ"
      }
    },
    {
      "cell_type": "code",
      "source": [
        "def bubbleSort(array):\n",
        "  return bubbleSortHelper(array)\n",
        "\n",
        "def bubbleSortHelper(array):\n",
        "  recursion = 0\n",
        "  while recursion < len(array):\n",
        "    for i in range(len(array) - 1):\n",
        "      if i <= len(array) - 1:\n",
        "        if array[i] > array[i+1]:\n",
        "          array[i], array[i+1] = array[i+1], array[i]\n",
        "    recursion += 1\n",
        "  return array"
      ],
      "metadata": {
        "id": "KQ90CrQa3Yj9"
      },
      "execution_count": null,
      "outputs": []
    },
    {
      "cell_type": "code",
      "source": [
        "array = [8, 5, 2, 9, 5, 6, 3]\n",
        "\n",
        "bubbleSort(array)"
      ],
      "metadata": {
        "colab": {
          "base_uri": "https://localhost:8080/"
        },
        "id": "vPs5lF35qwvC",
        "outputId": "47257500-3b9c-44ee-f6df-38a22c3d4de8"
      },
      "execution_count": null,
      "outputs": [
        {
          "output_type": "execute_result",
          "data": {
            "text/plain": [
              "[2, 3, 5, 5, 6, 8, 9]"
            ]
          },
          "metadata": {},
          "execution_count": 59
        }
      ]
    },
    {
      "cell_type": "markdown",
      "source": [
        "### Insertion Sort"
      ],
      "metadata": {
        "id": "JAZas4b-7JvS"
      }
    },
    {
      "cell_type": "code",
      "source": [
        "def insertionSort(array):\n",
        "  for i in range(1, len(array)):\n",
        "    while i  > 0 and array[i] < array[i-1]:\n",
        "        array[i-1], array[i] = array[i], array[i-1]\n",
        "        i -= 1\n",
        "  return array"
      ],
      "metadata": {
        "id": "0Y90zLFx8-O6"
      },
      "execution_count": null,
      "outputs": []
    },
    {
      "cell_type": "code",
      "source": [
        "array = [8, 5, 2, 9, 5, 6, 3]\n",
        "\n",
        "insertionSort(array)"
      ],
      "metadata": {
        "colab": {
          "base_uri": "https://localhost:8080/"
        },
        "id": "lvQL0Qw988H5",
        "outputId": "2d0d8e3b-505c-4498-e109-2d18ea26079e"
      },
      "execution_count": null,
      "outputs": [
        {
          "output_type": "execute_result",
          "data": {
            "text/plain": [
              "[2, 3, 5, 5, 6, 8, 9]"
            ]
          },
          "metadata": {},
          "execution_count": 52
        }
      ]
    },
    {
      "cell_type": "markdown",
      "source": [
        "### Selection Sort"
      ],
      "metadata": {
        "id": "HRIlxg7v8_8Y"
      }
    },
    {
      "cell_type": "code",
      "source": [
        "def selectionSort(array):\n",
        "  return selectionSortHelper(array, 0)\n",
        "\n",
        "def selectionSortHelper(array, i):\n",
        "  if i <= len(array) - 1:\n",
        "    smallestNum = array[i]\n",
        "    currentIdx = 0\n",
        "    for x in array[i:]:\n",
        "      if x <= smallestNum:\n",
        "        smallestNum = x \n",
        "        currentIdx = array[i:].index(smallestNum) + i\n",
        "    \n",
        "    array[i], array[currentIdx] = array[currentIdx], array[i]\n",
        "    selectionSortHelper(array, i+1)\n",
        "\n",
        "  return array"
      ],
      "metadata": {
        "id": "yn3pwyUlME0-"
      },
      "execution_count": null,
      "outputs": []
    },
    {
      "cell_type": "code",
      "source": [
        "array = [8, 5, 2, 9, 5, 6, 3]\n",
        "\n",
        "selectionSort(array)"
      ],
      "metadata": {
        "colab": {
          "base_uri": "https://localhost:8080/"
        },
        "id": "2tXGHrK-DxGf",
        "outputId": "b58ddd57-85dd-4f55-922e-ece2966eab76"
      },
      "execution_count": null,
      "outputs": [
        {
          "output_type": "execute_result",
          "data": {
            "text/plain": [
              "[2, 3, 5, 5, 6, 8, 9]"
            ]
          },
          "metadata": {},
          "execution_count": 241
        }
      ]
    },
    {
      "cell_type": "markdown",
      "source": [
        "## Strings"
      ],
      "metadata": {
        "id": "QWvd_M02eaLY"
      }
    },
    {
      "cell_type": "markdown",
      "source": [
        "### Palindrome Check"
      ],
      "metadata": {
        "id": "nnzRFvIwUKEL"
      }
    },
    {
      "cell_type": "code",
      "source": [
        "def isPalindrome(string):\n",
        "\treversedString = \"\"\n",
        "\tfor i in reversed(range(len(string))):\n",
        "\t\treversedString += string[i]\n",
        "\treturn string == reversedString"
      ],
      "metadata": {
        "id": "g7la-ZhnUyuL"
      },
      "execution_count": null,
      "outputs": []
    },
    {
      "cell_type": "code",
      "source": [
        "string = \"abcdcba\"\n",
        "\n",
        "isPalindrome(string)"
      ],
      "metadata": {
        "colab": {
          "base_uri": "https://localhost:8080/"
        },
        "id": "BUpfwUxBU0P9",
        "outputId": "988555c5-acf9-46c1-c6a3-8567a0d7fca3"
      },
      "execution_count": null,
      "outputs": [
        {
          "output_type": "execute_result",
          "data": {
            "text/plain": [
              "True"
            ]
          },
          "metadata": {},
          "execution_count": 243
        }
      ]
    },
    {
      "cell_type": "markdown",
      "source": [
        "### Caesar Cipher Encryptor"
      ],
      "metadata": {
        "id": "vuK9tO98U3Oe"
      }
    },
    {
      "cell_type": "code",
      "source": [
        "def caesarCipherEncryptor(string, key):\n",
        "  newLetters = []\n",
        "  key = key % 26\n",
        "  for letter in string:\n",
        "    unicodeValue = ord(letter)\n",
        "\n",
        "    if unicodeValue <= 122 - key:\n",
        "        unicodeValue += key\n",
        "    else:\n",
        "      unicodeValue = unicodeValue - 26 + key\n",
        "\n",
        "    letter = chr(unicodeValue)\n",
        "    newLetters.append(letter)\n",
        "\n",
        "  return convertString(newLetters)\n",
        "\n",
        "def convertString(list):\n",
        "  emptyString = \"\"\n",
        "  return emptyString.join(list)"
      ],
      "metadata": {
        "id": "UgK1qzL3VL5S"
      },
      "execution_count": null,
      "outputs": []
    },
    {
      "cell_type": "code",
      "source": [
        "string = \"abc\"\n",
        "key = 52\n",
        "\n",
        "caesarCipherEncryptor(string, key)"
      ],
      "metadata": {
        "colab": {
          "base_uri": "https://localhost:8080/",
          "height": 35
        },
        "id": "byjVQGXEVBzC",
        "outputId": "548066b3-c37a-4848-9733-5db8d4ae1972"
      },
      "execution_count": null,
      "outputs": [
        {
          "output_type": "execute_result",
          "data": {
            "text/plain": [
              "'abc'"
            ],
            "application/vnd.google.colaboratory.intrinsic+json": {
              "type": "string"
            }
          },
          "metadata": {},
          "execution_count": 289
        }
      ]
    },
    {
      "cell_type": "markdown",
      "source": [
        "### Run-Length Encoding"
      ],
      "metadata": {
        "id": "F378OaO5awaf"
      }
    },
    {
      "cell_type": "code",
      "source": [
        "def runLengthEncoding(string):\n",
        "  chars = []\n",
        "  length = 1\n",
        "\n",
        "  for i in range(1, len(string)):\n",
        "    if string[i] == string[i-1]:\n",
        "      if length == 9:\n",
        "        chars.append(f\"{length}{string[i-1]}\")\n",
        "        length = 0\n",
        "      length += 1\n",
        "    \n",
        "    else:\n",
        "      chars.append(f\"{length}{string[i-1]}\")\n",
        "      length = 1\n",
        "    \n",
        "  chars.append(f\"{length}{string[-1]}\")\n",
        "  \n",
        "  return \"\".join(chars)"
      ],
      "metadata": {
        "id": "vStEMd2LbXAI"
      },
      "execution_count": null,
      "outputs": []
    },
    {
      "cell_type": "code",
      "source": [
        "string = \"AAAAAAAAAAAAABBCCCCDD\"\n",
        "\n",
        "runLengthEncoding(string)"
      ],
      "metadata": {
        "colab": {
          "base_uri": "https://localhost:8080/",
          "height": 35
        },
        "id": "OtYOxW2bbTT9",
        "outputId": "770af50a-09dc-43ef-c45b-def95a73031c"
      },
      "execution_count": null,
      "outputs": [
        {
          "output_type": "execute_result",
          "data": {
            "text/plain": [
              "'9A4A2B4C2D'"
            ],
            "application/vnd.google.colaboratory.intrinsic+json": {
              "type": "string"
            }
          },
          "metadata": {},
          "execution_count": 6
        }
      ]
    },
    {
      "cell_type": "markdown",
      "source": [
        "### Generate Document"
      ],
      "metadata": {
        "id": "BueN7XyIbZS2"
      }
    },
    {
      "cell_type": "code",
      "source": [
        "def generateDocument(characters, document):\n",
        "  for character in document:\n",
        "    documentFreq = generateDocumentHelper(character, document)\n",
        "    charactersFreq = generateDocumentHelper(character, characters)\n",
        "    if documentFreq > charactersFreq:\n",
        "      return False\n",
        "    \n",
        "    return True\n",
        "\n",
        "def generateDocumentHelper(character, target):\n",
        "  frequency = 0\n",
        "  for char in target:\n",
        "    if char == character:\n",
        "      frequency += 1\n",
        "  \n",
        "  return frequency"
      ],
      "metadata": {
        "id": "LCa6O2JQBcX3"
      },
      "execution_count": null,
      "outputs": []
    },
    {
      "cell_type": "code",
      "source": [
        "characters = \"Bste!hetsi ogEAxpelrt x \"\n",
        "document = \"AlgoExpert is the Best!\"\n",
        "\n",
        "generateDocument(characters, document)"
      ],
      "metadata": {
        "colab": {
          "base_uri": "https://localhost:8080/"
        },
        "id": "c5x18L-JBQ5F",
        "outputId": "963c2628-58d1-44fb-b695-23bb68c0c267"
      },
      "execution_count": null,
      "outputs": [
        {
          "output_type": "execute_result",
          "data": {
            "text/plain": [
              "True"
            ]
          },
          "metadata": {},
          "execution_count": 28
        }
      ]
    },
    {
      "cell_type": "markdown",
      "source": [
        "### First Non-Repeating Character"
      ],
      "metadata": {
        "id": "x51Z-_j0CKs3"
      }
    },
    {
      "cell_type": "code",
      "source": [
        "def firstNonRepeatingCharacter(string):\n",
        "\n",
        "  if string == \"\":\n",
        "    return -1\n",
        "  \n",
        "  else:\n",
        "    lettersFreq = []\n",
        "    i = 0\n",
        "    freq = 0\n",
        "\n",
        "    while i <= len(string) - 1:\n",
        "      for letter in string:\n",
        "        if letter == string[i]:\n",
        "          freq += 1\n",
        "      lettersFreq.append(string[i])\n",
        "      lettersFreq.append(freq)\n",
        "      freq = 0\n",
        "      i += 1\n",
        "\n",
        "    for j, x in enumerate(lettersFreq):\n",
        "      if x == 1:\n",
        "        requiredIndex = string.index(lettersFreq[j - 1])\n",
        "        return requiredIndex\n",
        "      \n",
        "      if j == len(lettersFreq) - 1 and x != 1:\n",
        "        return -1"
      ],
      "metadata": {
        "id": "518F2bPCHzYY"
      },
      "execution_count": null,
      "outputs": []
    },
    {
      "cell_type": "code",
      "source": [
        "string = \"abcdcaf\"\n",
        "\n",
        "firstNonRepeatingCharacter(string)"
      ],
      "metadata": {
        "colab": {
          "base_uri": "https://localhost:8080/"
        },
        "id": "j7BpVclvHtxz",
        "outputId": "bcba1da1-9e5e-4822-c937-56c31973c754"
      },
      "execution_count": null,
      "outputs": [
        {
          "output_type": "execute_result",
          "data": {
            "text/plain": [
              "1"
            ]
          },
          "metadata": {},
          "execution_count": 142
        }
      ]
    },
    {
      "cell_type": "code",
      "source": [
        "# dictionary.get method\n",
        "def firstNonRepeatingCharacter(string):\n",
        "\tcharacterFrequencies = {}\n",
        "\t\n",
        "\tfor character in string:\n",
        "\t\tcharacterFrequencies[character] = characterFrequencies.get(character, 0) + 1\n",
        "\t\n",
        "\tfor idx in range(len(string)):\n",
        "\t\tcharacter = string[idx]\n",
        "\t\tif characterFrequencies[character] == 1:\n",
        "\t\t\treturn idx\n",
        "\t\n",
        "\treturn -1"
      ],
      "metadata": {
        "id": "Qxvu2ihgKbWf"
      },
      "execution_count": null,
      "outputs": []
    },
    {
      "cell_type": "code",
      "source": [
        "string = \"abcdcaf\"\n",
        "\n",
        "firstNonRepeatingCharacter(string)"
      ],
      "metadata": {
        "colab": {
          "base_uri": "https://localhost:8080/"
        },
        "id": "PIeFLPdxdBBE",
        "outputId": "8fec75e3-8469-44d3-d6da-b713ed77b418"
      },
      "execution_count": null,
      "outputs": [
        {
          "output_type": "execute_result",
          "data": {
            "text/plain": [
              "1"
            ]
          },
          "metadata": {},
          "execution_count": 148
        }
      ]
    }
  ]
}